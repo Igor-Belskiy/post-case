{
  "cells": [
    {
      "cell_type": "markdown",
      "metadata": {
        "id": "view-in-github",
        "colab_type": "text"
      },
      "source": [
        "<a href=\"https://colab.research.google.com/github/Igor-Belskiy/post-case/blob/main/%D0%9F%D0%BE%D1%87%D1%82%D0%B0_%D0%91%D0%B5%D0%BB%D1%8C%D1%81%D0%BA%D0%B8%D0%B9.ipynb\" target=\"_parent\"><img src=\"https://colab.research.google.com/assets/colab-badge.svg\" alt=\"Open In Colab\"/></a>"
      ]
    },
    {
      "cell_type": "markdown",
      "metadata": {
        "id": "61uB0ndWzHLi"
      },
      "source": [
        "# Загрузка библиотек и исходных данных"
      ]
    },
    {
      "cell_type": "code",
      "execution_count": null,
      "metadata": {
        "id": "3gT8crbFeMmj"
      },
      "outputs": [],
      "source": [
        "import pandas as pd\n",
        "import numpy as np\n",
        "\n",
        "import time\n",
        "import os\n",
        "import gdown     # Для загрузки файлов с гугл-диска\n",
        "from google.colab import output\n",
        "\n",
        "import seaborn as sns\n",
        "import matplotlib.pyplot as plt\n",
        "\n",
        "\n",
        "from sklearn.model_selection import train_test_split\n",
        "from tensorflow.keras import utils   #Используем для to_categoricall\n",
        "\n",
        "from tensorflow.keras.models import Sequential, Model # \n",
        "from tensorflow.keras.layers import concatenate, Input, Dense, Dropout, BatchNormalization, Flatten #\n",
        "from tensorflow.keras.optimizers import Adam,Adadelta,SGD,Adagrad,RMSprop #\n",
        "\n",
        "\n",
        "\n",
        "%matplotlib inline"
      ]
    },
    {
      "cell_type": "code",
      "execution_count": null,
      "metadata": {
        "colab": {
          "base_uri": "https://localhost:8080/"
        },
        "id": "Nqx8rB4JfCjv",
        "outputId": "e0032424-16c7-437e-b87d-60661920e420"
      },
      "outputs": [
        {
          "output_type": "stream",
          "name": "stderr",
          "text": [
            "Downloading...\n",
            "From: https://drive.google.com/uc?id=1-24jlxJk2rn5yK0qpzVtXkCeKdiJ8l0E\n",
            "To: /content/train_dataset_train.csv.gz\n",
            "100%|██████████| 255M/255M [00:01<00:00, 145MB/s]\n",
            "Downloading...\n",
            "From: https://drive.google.com/uc?id=1-F0_JQsFbApttOSiitcP9HwXD6-h-AYr\n",
            "To: /content/test_dataset_test.csv.gz\n",
            "100%|██████████| 170M/170M [00:01<00:00, 161MB/s]\n"
          ]
        }
      ],
      "source": [
        "# Загружаем данные в колаб\n",
        "# Для более быстрой загрузки данные сохранил на своём гугл-диске и запаковал\n",
        "# При необходимости, здесь можно сменить источник данных\n",
        "\n",
        "gdown.download('https://drive.google.com/uc?id=1-24jlxJk2rn5yK0qpzVtXkCeKdiJ8l0E', 'train_dataset_train.csv.gz', quiet=False)\n",
        "\n",
        "gdown.download('https://drive.google.com/uc?id=1-F0_JQsFbApttOSiitcP9HwXD6-h-AYr', 'test_dataset_test.csv.gz', quiet=False)\n",
        "\n",
        "!gunzip '/content/test_dataset_test.csv.gz'\n",
        "!gunzip '/content/train_dataset_train.csv.gz'\n"
      ]
    },
    {
      "cell_type": "code",
      "source": [
        "df = pd.read_csv('/content/train_dataset_train.csv')"
      ],
      "metadata": {
        "colab": {
          "base_uri": "https://localhost:8080/"
        },
        "id": "SWselb6vqvni",
        "outputId": "d801d308-0677-4ec6-8db0-85bc57d09c2f"
      },
      "execution_count": null,
      "outputs": [
        {
          "output_type": "stream",
          "name": "stderr",
          "text": [
            "/usr/local/lib/python3.7/dist-packages/IPython/core/interactiveshell.py:3326: DtypeWarning: Columns (3) have mixed types.Specify dtype option on import or set low_memory=False.\n",
            "  exec(code_obj, self.user_global_ns, self.user_ns)\n"
          ]
        }
      ]
    },
    {
      "cell_type": "code",
      "source": [
        "\n",
        "df_test = pd.read_csv('/content/test_dataset_test.csv')"
      ],
      "metadata": {
        "id": "oJC36iZ8OxAD"
      },
      "execution_count": null,
      "outputs": []
    },
    {
      "cell_type": "code",
      "source": [
        "# Загружаем предобработанный данные (простые категориальные данные)\n",
        "\n",
        "gdown.download('https://drive.google.com/uc?id=1-QtP1zT9623Jm9oMe_EJqxOenRO-dKLe', 'train_simple_cat.npy.gz', quiet=False)\n",
        "\n",
        "gdown.download('https://drive.google.com/uc?id=1-Q8bqHJpx8XZQMt0x9-niXp15Pz7xhgz', 'test_simple_cat.npy.gz', quiet=False)\n",
        "\n",
        "!gunzip 'train_simple_cat.npy.gz'\n",
        "!gunzip 'test_simple_cat.npy.gz'"
      ],
      "metadata": {
        "colab": {
          "base_uri": "https://localhost:8080/"
        },
        "id": "N7jx8_nlIEKU",
        "outputId": "7f323594-06a0-4535-cf0d-235a1df4623d"
      },
      "execution_count": null,
      "outputs": [
        {
          "output_type": "stream",
          "name": "stderr",
          "text": [
            "Downloading...\n",
            "From: https://drive.google.com/uc?id=1-QtP1zT9623Jm9oMe_EJqxOenRO-dKLe\n",
            "To: /content/train_simple_cat.npy.gz\n",
            "100%|██████████| 48.9M/48.9M [00:00<00:00, 135MB/s]\n",
            "Downloading...\n",
            "From: https://drive.google.com/uc?id=1-Q8bqHJpx8XZQMt0x9-niXp15Pz7xhgz\n",
            "To: /content/test_simple_cat.npy.gz\n",
            "100%|██████████| 32.6M/32.6M [00:00<00:00, 130MB/s] \n"
          ]
        }
      ]
    },
    {
      "cell_type": "code",
      "source": [
        "train_simple_cat = np.load('train_simple_cat.npy')"
      ],
      "metadata": {
        "id": "KNVaV8KOq1HS"
      },
      "execution_count": null,
      "outputs": []
    },
    {
      "cell_type": "code",
      "source": [
        "\n",
        "test_simple_cat = np.load('test_simple_cat.npy')"
      ],
      "metadata": {
        "id": "qDEx7UcAO2Yz"
      },
      "execution_count": null,
      "outputs": []
    },
    {
      "cell_type": "code",
      "source": [
        "import gc\n",
        "\n",
        "gc.collect()"
      ],
      "metadata": {
        "colab": {
          "base_uri": "https://localhost:8080/"
        },
        "id": "FbBB7278Zg3N",
        "outputId": "c1e4f886-f6e9-45c6-c8e5-b4c06c5d7697"
      },
      "execution_count": null,
      "outputs": [
        {
          "output_type": "execute_result",
          "data": {
            "text/plain": [
              "254"
            ]
          },
          "metadata": {},
          "execution_count": 8
        }
      ]
    },
    {
      "cell_type": "code",
      "source": [
        "del test_simple_cat\n",
        "del train_simple_cat\n",
        "del df\n",
        "del df_test\n",
        "\n",
        "gc.collect()"
      ],
      "metadata": {
        "colab": {
          "base_uri": "https://localhost:8080/"
        },
        "id": "IbYPXYoVZrVR",
        "outputId": "32ed04fb-1aad-400f-a1bd-a0274b35c725"
      },
      "execution_count": null,
      "outputs": [
        {
          "output_type": "execute_result",
          "data": {
            "text/plain": [
              "329"
            ]
          },
          "metadata": {},
          "execution_count": 9
        }
      ]
    },
    {
      "cell_type": "markdown",
      "source": [
        "Загружаем предобработанный ранее файл y_train/\n",
        "Подготовка этого файла в разделе \"Выход готовим методом OHE\""
      ],
      "metadata": {
        "id": "4Xoc1A_eYCsB"
      }
    },
    {
      "cell_type": "code",
      "source": [
        "# Загружаем ранее созданный y_train с диска\n",
        "\n",
        "gdown.download('https://drive.google.com/uc?id=1Edg22ORHSNmLU2yOJwwi3tOMUByxkE2R', 'y_train.npy.gz', quiet=False)\n",
        "\n",
        "!gunzip 'y_train.npy.gz'\n",
        "\n",
        "y_train = np.load('y_train.npy')"
      ],
      "metadata": {
        "colab": {
          "base_uri": "https://localhost:8080/"
        },
        "id": "8by-Unqe-Vqa",
        "outputId": "763f95f4-55e8-42f8-a9bc-88df7a8bce86"
      },
      "execution_count": null,
      "outputs": [
        {
          "output_type": "stream",
          "name": "stderr",
          "text": [
            "Downloading...\n",
            "From: https://drive.google.com/uc?id=1Edg22ORHSNmLU2yOJwwi3tOMUByxkE2R\n",
            "To: /content/y_train.npy.gz\n",
            "100%|██████████| 720k/720k [00:00<00:00, 105MB/s]\n"
          ]
        }
      ]
    },
    {
      "cell_type": "markdown",
      "metadata": {
        "id": "H4tj_aVyggQ2"
      },
      "source": [
        "Если надо, также можно подгрузить файл с текстовым решением организаторов"
      ]
    },
    {
      "cell_type": "code",
      "execution_count": null,
      "metadata": {
        "colab": {
          "base_uri": "https://localhost:8080/",
          "height": 113
        },
        "id": "w78X7856gyFw",
        "outputId": "3f52f36c-832a-477c-8afc-d61d7b09a283"
      },
      "outputs": [
        {
          "output_type": "stream",
          "name": "stderr",
          "text": [
            "Downloading...\n",
            "From: https://drive.google.com/uc?id=1TgGUWZ2HBA_86lEUK6rTgwvSZJq8v1yM\n",
            "To: /content/sample_solution.csv\n",
            "100%|██████████| 39.6M/39.6M [00:00<00:00, 141MB/s]\n"
          ]
        },
        {
          "output_type": "execute_result",
          "data": {
            "text/plain": [
              "'sample_solution.csv'"
            ],
            "application/vnd.google.colaboratory.intrinsic+json": {
              "type": "string"
            }
          },
          "metadata": {},
          "execution_count": 25
        }
      ],
      "source": [
        "gdown.download('https://drive.google.com/uc?id=1TgGUWZ2HBA_86lEUK6rTgwvSZJq8v1yM', 'sample_solution.csv', quiet=False)"
      ]
    },
    {
      "cell_type": "code",
      "execution_count": null,
      "metadata": {
        "id": "EA0pIK6ohIbr"
      },
      "outputs": [],
      "source": [
        "df_sample_solution = pd.read_csv('/content/sample_solution.csv')"
      ]
    },
    {
      "cell_type": "markdown",
      "metadata": {
        "id": "g-X-hNMuhUwa"
      },
      "source": [
        "# Осматриваем данные"
      ]
    },
    {
      "cell_type": "code",
      "execution_count": null,
      "metadata": {
        "colab": {
          "base_uri": "https://localhost:8080/",
          "height": 206
        },
        "id": "ogXvzyHdhYaP",
        "outputId": "c713597a-6924-4e3d-e4ee-23ad1e28ba7e"
      },
      "outputs": [
        {
          "data": {
            "text/html": [
              "\n",
              "  <div id=\"df-a10c8984-29d7-4dd5-8d3f-b1f864ca41bb\">\n",
              "    <div class=\"colab-df-container\">\n",
              "      <div>\n",
              "<style scoped>\n",
              "    .dataframe tbody tr th:only-of-type {\n",
              "        vertical-align: middle;\n",
              "    }\n",
              "\n",
              "    .dataframe tbody tr th {\n",
              "        vertical-align: top;\n",
              "    }\n",
              "\n",
              "    .dataframe thead th {\n",
              "        text-align: right;\n",
              "    }\n",
              "</style>\n",
              "<table border=\"1\" class=\"dataframe\">\n",
              "  <thead>\n",
              "    <tr style=\"text-align: right;\">\n",
              "      <th></th>\n",
              "      <th>id</th>\n",
              "      <th>label</th>\n",
              "    </tr>\n",
              "  </thead>\n",
              "  <tbody>\n",
              "    <tr>\n",
              "      <th>0</th>\n",
              "      <td>7815282</td>\n",
              "      <td>0</td>\n",
              "    </tr>\n",
              "    <tr>\n",
              "      <th>1</th>\n",
              "      <td>8443555</td>\n",
              "      <td>0</td>\n",
              "    </tr>\n",
              "    <tr>\n",
              "      <th>2</th>\n",
              "      <td>6352559</td>\n",
              "      <td>0</td>\n",
              "    </tr>\n",
              "    <tr>\n",
              "      <th>3</th>\n",
              "      <td>4921420</td>\n",
              "      <td>0</td>\n",
              "    </tr>\n",
              "    <tr>\n",
              "      <th>4</th>\n",
              "      <td>1420440</td>\n",
              "      <td>0</td>\n",
              "    </tr>\n",
              "  </tbody>\n",
              "</table>\n",
              "</div>\n",
              "      <button class=\"colab-df-convert\" onclick=\"convertToInteractive('df-a10c8984-29d7-4dd5-8d3f-b1f864ca41bb')\"\n",
              "              title=\"Convert this dataframe to an interactive table.\"\n",
              "              style=\"display:none;\">\n",
              "        \n",
              "  <svg xmlns=\"http://www.w3.org/2000/svg\" height=\"24px\"viewBox=\"0 0 24 24\"\n",
              "       width=\"24px\">\n",
              "    <path d=\"M0 0h24v24H0V0z\" fill=\"none\"/>\n",
              "    <path d=\"M18.56 5.44l.94 2.06.94-2.06 2.06-.94-2.06-.94-.94-2.06-.94 2.06-2.06.94zm-11 1L8.5 8.5l.94-2.06 2.06-.94-2.06-.94L8.5 2.5l-.94 2.06-2.06.94zm10 10l.94 2.06.94-2.06 2.06-.94-2.06-.94-.94-2.06-.94 2.06-2.06.94z\"/><path d=\"M17.41 7.96l-1.37-1.37c-.4-.4-.92-.59-1.43-.59-.52 0-1.04.2-1.43.59L10.3 9.45l-7.72 7.72c-.78.78-.78 2.05 0 2.83L4 21.41c.39.39.9.59 1.41.59.51 0 1.02-.2 1.41-.59l7.78-7.78 2.81-2.81c.8-.78.8-2.07 0-2.86zM5.41 20L4 18.59l7.72-7.72 1.47 1.35L5.41 20z\"/>\n",
              "  </svg>\n",
              "      </button>\n",
              "      \n",
              "  <style>\n",
              "    .colab-df-container {\n",
              "      display:flex;\n",
              "      flex-wrap:wrap;\n",
              "      gap: 12px;\n",
              "    }\n",
              "\n",
              "    .colab-df-convert {\n",
              "      background-color: #E8F0FE;\n",
              "      border: none;\n",
              "      border-radius: 50%;\n",
              "      cursor: pointer;\n",
              "      display: none;\n",
              "      fill: #1967D2;\n",
              "      height: 32px;\n",
              "      padding: 0 0 0 0;\n",
              "      width: 32px;\n",
              "    }\n",
              "\n",
              "    .colab-df-convert:hover {\n",
              "      background-color: #E2EBFA;\n",
              "      box-shadow: 0px 1px 2px rgba(60, 64, 67, 0.3), 0px 1px 3px 1px rgba(60, 64, 67, 0.15);\n",
              "      fill: #174EA6;\n",
              "    }\n",
              "\n",
              "    [theme=dark] .colab-df-convert {\n",
              "      background-color: #3B4455;\n",
              "      fill: #D2E3FC;\n",
              "    }\n",
              "\n",
              "    [theme=dark] .colab-df-convert:hover {\n",
              "      background-color: #434B5C;\n",
              "      box-shadow: 0px 1px 3px 1px rgba(0, 0, 0, 0.15);\n",
              "      filter: drop-shadow(0px 1px 2px rgba(0, 0, 0, 0.3));\n",
              "      fill: #FFFFFF;\n",
              "    }\n",
              "  </style>\n",
              "\n",
              "      <script>\n",
              "        const buttonEl =\n",
              "          document.querySelector('#df-a10c8984-29d7-4dd5-8d3f-b1f864ca41bb button.colab-df-convert');\n",
              "        buttonEl.style.display =\n",
              "          google.colab.kernel.accessAllowed ? 'block' : 'none';\n",
              "\n",
              "        async function convertToInteractive(key) {\n",
              "          const element = document.querySelector('#df-a10c8984-29d7-4dd5-8d3f-b1f864ca41bb');\n",
              "          const dataTable =\n",
              "            await google.colab.kernel.invokeFunction('convertToInteractive',\n",
              "                                                     [key], {});\n",
              "          if (!dataTable) return;\n",
              "\n",
              "          const docLinkHtml = 'Like what you see? Visit the ' +\n",
              "            '<a target=\"_blank\" href=https://colab.research.google.com/notebooks/data_table.ipynb>data table notebook</a>'\n",
              "            + ' to learn more about interactive tables.';\n",
              "          element.innerHTML = '';\n",
              "          dataTable['output_type'] = 'display_data';\n",
              "          await google.colab.output.renderOutput(dataTable, element);\n",
              "          const docLink = document.createElement('div');\n",
              "          docLink.innerHTML = docLinkHtml;\n",
              "          element.appendChild(docLink);\n",
              "        }\n",
              "      </script>\n",
              "    </div>\n",
              "  </div>\n",
              "  "
            ],
            "text/plain": [
              "        id  label\n",
              "0  7815282      0\n",
              "1  8443555      0\n",
              "2  6352559      0\n",
              "3  4921420      0\n",
              "4  1420440      0"
            ]
          },
          "execution_count": 7,
          "metadata": {},
          "output_type": "execute_result"
        }
      ],
      "source": [
        "df_sample_solution.head(5)"
      ]
    },
    {
      "cell_type": "code",
      "execution_count": null,
      "metadata": {
        "colab": {
          "base_uri": "https://localhost:8080/"
        },
        "id": "_8dNtyfnhdPq",
        "outputId": "c1714d47-9fcc-49c4-f334-853836f6b72d"
      },
      "outputs": [
        {
          "output_type": "stream",
          "name": "stdout",
          "text": [
            "<class 'pandas.core.frame.DataFrame'>\n",
            "RangeIndex: 4000000 entries, 0 to 3999999\n",
            "Data columns (total 2 columns):\n",
            " #   Column  Dtype\n",
            "---  ------  -----\n",
            " 0   id      int64\n",
            " 1   label   int64\n",
            "dtypes: int64(2)\n",
            "memory usage: 61.0 MB\n"
          ]
        }
      ],
      "source": [
        "df_sample_solution.info()"
      ]
    },
    {
      "cell_type": "code",
      "execution_count": null,
      "metadata": {
        "colab": {
          "base_uri": "https://localhost:8080/"
        },
        "id": "ujCpsWlthgf0",
        "outputId": "8a975b1d-78a9-47ab-f8b3-1d0daf82f613"
      },
      "outputs": [
        {
          "name": "stdout",
          "output_type": "stream",
          "text": [
            "<class 'pandas.core.frame.DataFrame'>\n",
            "RangeIndex: 4000000 entries, 0 to 3999999\n",
            "Data columns (total 29 columns):\n",
            " #   Column                         Dtype  \n",
            "---  ------                         -----  \n",
            " 0   Unnamed: 0                     int64  \n",
            " 1   id                             int64  \n",
            " 2   oper_type + oper_attr          object \n",
            " 3   index_oper                     object \n",
            " 4   type                           object \n",
            " 5   priority                       float64\n",
            " 6   is_privatecategory             object \n",
            " 7   class                          float64\n",
            " 8   is_in_yandex                   object \n",
            " 9   is_return                      object \n",
            " 10  weight                         float64\n",
            " 11  mailtype                       float64\n",
            " 12  mailctg                        float64\n",
            " 13  mailrank                       float64\n",
            " 14  directctg                      float64\n",
            " 15  transport_pay                  float64\n",
            " 16  postmark                       float64\n",
            " 17  name_mfi                       object \n",
            " 18  weight_mfi                     float64\n",
            " 19  price_mfi                      float64\n",
            " 20  dist_qty_oper_login_1          float64\n",
            " 21  total_qty_oper_login_1         float64\n",
            " 22  total_qty_oper_login_0         float64\n",
            " 23  total_qty_over_index_and_type  float64\n",
            " 24  total_qty_over_index           float64\n",
            " 25  is_wrong_sndr_name             int64  \n",
            " 26  is_wrong_rcpn_name             int64  \n",
            " 27  is_wrong_phone_number          int64  \n",
            " 28  is_wrong_address               int64  \n",
            "dtypes: float64(16), int64(6), object(7)\n",
            "memory usage: 885.0+ MB\n"
          ]
        }
      ],
      "source": [
        "df_test.info()"
      ]
    },
    {
      "cell_type": "code",
      "execution_count": null,
      "metadata": {
        "colab": {
          "base_uri": "https://localhost:8080/"
        },
        "id": "HVBKObX9YneJ",
        "outputId": "db49c50e-9ab8-4825-c17d-c0d6b3d3bc73"
      },
      "outputs": [
        {
          "data": {
            "text/plain": [
              "0    0.0\n",
              "1    0.0\n",
              "2    0.0\n",
              "3    0.0\n",
              "4    0.0\n",
              "Name: mailrank, dtype: float64"
            ]
          },
          "execution_count": 8,
          "metadata": {},
          "output_type": "execute_result"
        }
      ],
      "source": [
        "df['mailrank'].head(5)"
      ]
    },
    {
      "cell_type": "code",
      "execution_count": null,
      "metadata": {
        "colab": {
          "base_uri": "https://localhost:8080/"
        },
        "id": "3QDf4B6WhwE_",
        "outputId": "a6bec4b8-6229-4bd8-d330-6efa3c676b3a"
      },
      "outputs": [
        {
          "name": "stdout",
          "output_type": "stream",
          "text": [
            "<class 'pandas.core.frame.DataFrame'>\n",
            "RangeIndex: 6000000 entries, 0 to 5999999\n",
            "Data columns (total 30 columns):\n",
            " #   Column                         Dtype  \n",
            "---  ------                         -----  \n",
            " 0   Unnamed: 0                     int64  \n",
            " 1   id                             int64  \n",
            " 2   oper_type + oper_attr          object \n",
            " 3   index_oper                     object \n",
            " 4   type                           object \n",
            " 5   priority                       float64\n",
            " 6   is_privatecategory             object \n",
            " 7   class                          float64\n",
            " 8   is_in_yandex                   object \n",
            " 9   is_return                      object \n",
            " 10  weight                         float64\n",
            " 11  mailtype                       float64\n",
            " 12  mailctg                        float64\n",
            " 13  mailrank                       float64\n",
            " 14  directctg                      float64\n",
            " 15  transport_pay                  float64\n",
            " 16  postmark                       float64\n",
            " 17  name_mfi                       object \n",
            " 18  weight_mfi                     float64\n",
            " 19  price_mfi                      float64\n",
            " 20  dist_qty_oper_login_1          float64\n",
            " 21  total_qty_oper_login_1         float64\n",
            " 22  total_qty_oper_login_0         float64\n",
            " 23  total_qty_over_index_and_type  float64\n",
            " 24  total_qty_over_index           float64\n",
            " 25  is_wrong_sndr_name             int64  \n",
            " 26  is_wrong_rcpn_name             int64  \n",
            " 27  is_wrong_phone_number          int64  \n",
            " 28  is_wrong_address               int64  \n",
            " 29  label                          int64  \n",
            "dtypes: float64(16), int64(7), object(7)\n",
            "memory usage: 1.3+ GB\n"
          ]
        }
      ],
      "source": [
        "df.info()"
      ]
    },
    {
      "cell_type": "code",
      "execution_count": null,
      "metadata": {
        "colab": {
          "base_uri": "https://localhost:8080/"
        },
        "id": "M_L1aasN0OEx",
        "outputId": "ddedf638-468e-4d27-bd14-5cda7febcee5"
      },
      "outputs": [
        {
          "data": {
            "text/plain": [
              "Unnamed: 0                       6000000\n",
              "id                               6000000\n",
              "oper_type + oper_attr                109\n",
              "index_oper                         38661\n",
              "type                                  20\n",
              "priority                               4\n",
              "is_privatecategory                     3\n",
              "class                                  6\n",
              "is_in_yandex                           3\n",
              "is_return                              2\n",
              "weight                              2809\n",
              "mailtype                               9\n",
              "mailctg                                5\n",
              "mailrank                               1\n",
              "directctg                              3\n",
              "transport_pay                      10412\n",
              "postmark                               6\n",
              "name_mfi                          212936\n",
              "weight_mfi                          2070\n",
              "price_mfi                           6595\n",
              "dist_qty_oper_login_1                165\n",
              "total_qty_oper_login_1             18377\n",
              "total_qty_oper_login_0              9351\n",
              "total_qty_over_index_and_type      20097\n",
              "total_qty_over_index               35188\n",
              "is_wrong_sndr_name                     2\n",
              "is_wrong_rcpn_name                     2\n",
              "is_wrong_phone_number                  2\n",
              "is_wrong_address                       2\n",
              "label                                  2\n",
              "dtype: int64"
            ]
          },
          "execution_count": 16,
          "metadata": {},
          "output_type": "execute_result"
        }
      ],
      "source": [
        "df.nunique()"
      ]
    },
    {
      "cell_type": "code",
      "execution_count": null,
      "metadata": {
        "colab": {
          "base_uri": "https://localhost:8080/"
        },
        "id": "fZSH4A1XlnsY",
        "outputId": "d48733e3-2cca-476c-8ce0-d7db1cd77db7"
      },
      "outputs": [
        {
          "data": {
            "text/plain": [
              "Unnamed: 0                       4000000\n",
              "id                               4000000\n",
              "oper_type + oper_attr                102\n",
              "index_oper                         35589\n",
              "type                                  20\n",
              "priority                               4\n",
              "is_privatecategory                     3\n",
              "class                                  6\n",
              "is_in_yandex                           3\n",
              "is_return                              2\n",
              "weight                              2804\n",
              "mailtype                               7\n",
              "mailctg                                5\n",
              "mailrank                               1\n",
              "directctg                              3\n",
              "transport_pay                      10358\n",
              "postmark                               6\n",
              "name_mfi                          205458\n",
              "weight_mfi                          2069\n",
              "price_mfi                           6529\n",
              "dist_qty_oper_login_1                164\n",
              "total_qty_oper_login_1             18268\n",
              "total_qty_oper_login_0              9319\n",
              "total_qty_over_index_and_type      19977\n",
              "total_qty_over_index               34027\n",
              "is_wrong_sndr_name                     2\n",
              "is_wrong_rcpn_name                     2\n",
              "is_wrong_phone_number                  2\n",
              "is_wrong_address                       2\n",
              "dtype: int64"
            ]
          },
          "execution_count": 7,
          "metadata": {},
          "output_type": "execute_result"
        }
      ],
      "source": [
        "df_test.nunique()"
      ]
    },
    {
      "cell_type": "code",
      "execution_count": null,
      "metadata": {
        "colab": {
          "base_uri": "https://localhost:8080/"
        },
        "id": "jTY_y8BamWai",
        "outputId": "5137f1b1-4da2-4831-8a1a-95697ab1356a"
      },
      "outputs": [
        {
          "name": "stdout",
          "output_type": "stream",
          "text": [
            "Столбец:  Unnamed: 0\n",
            "0          1\n",
            "4000007    1\n",
            "4000005    1\n",
            "4000004    1\n",
            "4000003    1\n",
            "          ..\n",
            "1999998    1\n",
            "1999997    1\n",
            "1999996    1\n",
            "1999995    1\n",
            "5999999    1\n",
            "Name: Unnamed: 0, Length: 6000000, dtype: int64\n",
            "\n",
            "\n",
            "Столбец:  id\n",
            "6818780    1\n",
            "1236699    1\n",
            "4090073    1\n",
            "7722817    1\n",
            "3414179    1\n",
            "          ..\n",
            "2573822    1\n",
            "654869     1\n",
            "1616887    1\n",
            "1384821    1\n",
            "6423388    1\n",
            "Name: id, Length: 6000000, dtype: int64\n",
            "\n",
            "\n",
            "Столбец:  oper_type + oper_attr\n",
            "1020_-1    693154\n",
            "1022_-1    656597\n",
            "1019_-1    413710\n",
            "8_0        402877\n",
            "1_-1       359402\n",
            "            ...  \n",
            "2_2             1\n",
            "12_6            1\n",
            "2_11            1\n",
            "2_10            1\n",
            "1009_-1         1\n",
            "Name: oper_type + oper_attr, Length: 109, dtype: int64\n",
            "\n",
            "\n",
            "Столбец:  index_oper\n",
            "102976      938416\n",
            "102976.0    661191\n",
            "102971      476859\n",
            "102971.0    341402\n",
            "620984       80811\n",
            "             ...  \n",
            "347566.0         1\n",
            "397724           1\n",
            "353710.0         1\n",
            "668412           1\n",
            "164553.0         1\n",
            "Name: index_oper, Length: 38661, dtype: int64\n",
            "\n",
            "\n",
            "Столбец:  type\n",
            "Цех               2093668\n",
            "ММПО              1614974\n",
            "Участок            926631\n",
            "ГОПС               463750\n",
            "ТИ                 305490\n",
            "П                  245814\n",
            "МСЦ                223241\n",
            "СОПС                72161\n",
            "СЦ                  12469\n",
            "ОП                   9527\n",
            "МСО                  7465\n",
            "ОПП                  7190\n",
            "АОПП                 6682\n",
            "МРП                  3850\n",
            "0                    3444\n",
            "АО                   1304\n",
            "ПЕРЕДВИЖНОЕ ОС       1006\n",
            "ППС                   682\n",
            "УМСЦ                  569\n",
            "УКД                    83\n",
            "Name: type, dtype: int64\n",
            "\n",
            "\n",
            "Столбец:  priority\n",
            "7503.0    3990518\n",
            "7506.0    1744627\n",
            "7504.0     261583\n",
            "0.0          3272\n",
            "Name: priority, dtype: int64\n",
            "\n",
            "\n",
            "Столбец:  is_privatecategory\n",
            "N    5994524\n",
            "Y       2806\n",
            "0       2670\n",
            "Name: is_privatecategory, dtype: int64\n",
            "\n",
            "\n",
            "Столбец:  class\n",
            "0.0    5214845\n",
            "3.0     371753\n",
            "2.0     150393\n",
            "4.0     131468\n",
            "1.0     114117\n",
            "5.0      17424\n",
            "Name: class, dtype: int64\n",
            "\n",
            "\n",
            "Столбец:  is_in_yandex\n",
            "N    3585956\n",
            "Y    2411374\n",
            "0       2670\n",
            "Name: is_in_yandex, dtype: int64\n",
            "\n",
            "\n",
            "Столбец:  is_return\n",
            "N    5993017\n",
            "Y       6983\n",
            "Name: is_return, dtype: int64\n",
            "\n",
            "\n",
            "Столбец:  weight\n",
            "30.0      40526\n",
            "27.0      39534\n",
            "40.0      39159\n",
            "28.0      38781\n",
            "60.0      38558\n",
            "          ...  \n",
            "3570.0        1\n",
            "2923.0        1\n",
            "2814.0        1\n",
            "2979.0        1\n",
            "2760.0        1\n",
            "Name: weight, Length: 2809, dtype: int64\n",
            "\n",
            "\n",
            "Столбец:  mailtype\n",
            "5.0    5992702\n",
            "0.0       5239\n",
            "2.0       1470\n",
            "7.0        462\n",
            "4.0         84\n",
            "1.0         20\n",
            "8.0         19\n",
            "6.0          2\n",
            "9.0          2\n",
            "Name: mailtype, dtype: int64\n",
            "\n",
            "\n",
            "Столбец:  mailctg\n",
            " 1.0    4688317\n",
            " 0.0    1257102\n",
            "-1.0      54015\n",
            " 3.0        546\n",
            " 5.0         20\n",
            "Name: mailctg, dtype: int64\n",
            "\n",
            "\n",
            "Столбец:  mailrank\n",
            "0.0    6000000\n",
            "Name: mailrank, dtype: int64\n",
            "\n",
            "\n",
            "Столбец:  directctg\n",
            "2.0    5930484\n",
            "1.0      69361\n",
            "0.0        155\n",
            "Name: directctg, dtype: int64\n",
            "\n",
            "\n",
            "Столбец:  transport_pay\n",
            "0.00      4120507\n",
            "22.41        4202\n",
            "23.88        4001\n",
            "22.91        3867\n",
            "23.60        3859\n",
            "           ...   \n",
            "98.80           1\n",
            "39.34           1\n",
            "55.90           1\n",
            "133.13          1\n",
            "126.15          1\n",
            "Name: transport_pay, Length: 10412, dtype: int64\n",
            "\n",
            "\n",
            "Столбец:  postmark\n",
            "0.0       5998986\n",
            "512.0         901\n",
            "1024.0         79\n",
            "8.0            23\n",
            "256.0           7\n",
            "1.0             4\n",
            "Name: postmark, dtype: int64\n",
            "\n",
            "\n",
            "Столбец:  name_mfi\n",
            "0                                                                           815434\n",
            "Mobile Phone Bags & Cases                                                    48165\n",
            "Screen Protectors                                                            45032\n",
            "phone case                                                                   42696\n",
            "Phone Case                                                                   25031\n",
            "                                                                             ...  \n",
            "BRUSH(X-DZS-2inch)                                                               1\n",
            "car led light(b-ty-highlander-15/18)                                             1\n",
            "iPhone glass(1005001915468400)                                                   1\n",
            "Tops,Women_s Jacket/T shirt,Women's Jacket/T shirt                               1\n",
            "Piston Rings PR-PW60-2SET(PR-PW60-2SET),Piston Rings PR-PW60-2SET(PR-PW6         1\n",
            "Name: name_mfi, Length: 212936, dtype: int64\n",
            "\n",
            "\n",
            "Столбец:  weight_mfi\n",
            "0.0       816226\n",
            "100.0     170247\n",
            "50.0      148594\n",
            "30.0      127648\n",
            "20.0       92968\n",
            "           ...  \n",
            "2453.0         1\n",
            "2485.0         1\n",
            "2022.0         1\n",
            "1727.0         1\n",
            "1491.0         1\n",
            "Name: weight_mfi, Length: 2070, dtype: int64\n",
            "\n",
            "\n",
            "Столбец:  price_mfi\n",
            "0.0        816663\n",
            "100.0      549504\n",
            "200.0      367123\n",
            "500.0      266189\n",
            "50.0       196045\n",
            "            ...  \n",
            "41228.0         1\n",
            "6294.0          1\n",
            "14001.0         1\n",
            "3039.0          1\n",
            "44256.0         1\n",
            "Name: price_mfi, Length: 6595, dtype: int64\n",
            "\n",
            "\n",
            "Столбец:  dist_qty_oper_login_1\n",
            "914.0     795886\n",
            "1089.0    334082\n",
            "184.0     329741\n",
            "972.0     272750\n",
            "153.0     239368\n",
            "           ...  \n",
            "75.0           3\n",
            "135.0          1\n",
            "222.0          1\n",
            "89.0           1\n",
            "95.0           1\n",
            "Name: dist_qty_oper_login_1, Length: 165, dtype: int64\n",
            "\n",
            "\n",
            "Столбец:  total_qty_oper_login_1\n",
            "48856658.0    795886\n",
            "64270133.0    334082\n",
            "67541214.0    329741\n",
            "68766046.0    272750\n",
            "76138189.0    159450\n",
            "               ...  \n",
            "38514.0            1\n",
            "106624.0           1\n",
            "5791.0             1\n",
            "44447.0            1\n",
            "9588.0             1\n",
            "Name: total_qty_oper_login_1, Length: 18377, dtype: int64\n",
            "\n",
            "\n",
            "Столбец:  total_qty_oper_login_0\n",
            "83318932.0     795886\n",
            "116432632.0    334082\n",
            "7870.0         329741\n",
            "91123247.0     272750\n",
            "8747.0         159450\n",
            "                ...  \n",
            "15936.0             1\n",
            "19165.0             1\n",
            "55367.0             1\n",
            "10047.0             1\n",
            "9755.0              1\n",
            "Name: total_qty_oper_login_0, Length: 9351, dtype: int64\n",
            "\n",
            "\n",
            "Столбец:  total_qty_over_index_and_type\n",
            "132175590.0    795886\n",
            "180702765.0    334082\n",
            "67549084.0     329741\n",
            "159889293.0    272750\n",
            "76146936.0     159450\n",
            "                ...  \n",
            "405817.0            1\n",
            "37450.0             1\n",
            "38834.0             1\n",
            "8291.0              1\n",
            "368597.0            1\n",
            "Name: total_qty_over_index_and_type, Length: 20097, dtype: int64\n",
            "\n",
            "\n",
            "Столбец:  total_qty_over_index\n",
            "136819803.0    795886\n",
            "188407812.0    334082\n",
            "72981134.0     329741\n",
            "164927295.0    272795\n",
            "84110459.0     159454\n",
            "                ...  \n",
            "1398.0              1\n",
            "12251.0             1\n",
            "4167.0              1\n",
            "20898.0             1\n",
            "36362.0             1\n",
            "Name: total_qty_over_index, Length: 35188, dtype: int64\n",
            "\n",
            "\n",
            "Столбец:  is_wrong_sndr_name\n",
            "0    5984615\n",
            "1      15385\n",
            "Name: is_wrong_sndr_name, dtype: int64\n",
            "\n",
            "\n",
            "Столбец:  is_wrong_rcpn_name\n",
            "0    4441358\n",
            "1    1558642\n",
            "Name: is_wrong_rcpn_name, dtype: int64\n",
            "\n",
            "\n",
            "Столбец:  is_wrong_phone_number\n",
            "0    4974174\n",
            "1    1025826\n",
            "Name: is_wrong_phone_number, dtype: int64\n",
            "\n",
            "\n",
            "Столбец:  is_wrong_address\n",
            "0    5992423\n",
            "1       7577\n",
            "Name: is_wrong_address, dtype: int64\n",
            "\n",
            "\n",
            "Столбец:  label\n",
            "0    5829020\n",
            "1     170980\n",
            "Name: label, dtype: int64\n",
            "\n",
            "\n"
          ]
        }
      ],
      "source": [
        "for x in df.columns :\n",
        "  print('Столбец: ', x)\n",
        "  print(df[x].value_counts())\n",
        "  print('\\n')"
      ]
    },
    {
      "cell_type": "markdown",
      "metadata": {
        "id": "GA28VsHnYL1F"
      },
      "source": [
        "# Функция обработки входящих данных\n",
        "\n",
        "Планируется несколько функций, для обработки разных видов данных."
      ]
    },
    {
      "cell_type": "code",
      "execution_count": null,
      "metadata": {
        "colab": {
          "base_uri": "https://localhost:8080/"
        },
        "id": "1dOePSerlXkq",
        "outputId": "e87fa8be-bc27-4363-cf8c-49c0ddd5b79a"
      },
      "outputs": [
        {
          "data": {
            "text/plain": [
              "Unnamed: 0                       False\n",
              "id                               False\n",
              "oper_type + oper_attr            False\n",
              "index_oper                       False\n",
              "type                              True\n",
              "priority                          True\n",
              "is_privatecategory                True\n",
              "class                             True\n",
              "is_in_yandex                      True\n",
              "is_return                         True\n",
              "weight                           False\n",
              "mailtype                         False\n",
              "mailctg                           True\n",
              "mailrank                          True\n",
              "directctg                         True\n",
              "transport_pay                    False\n",
              "postmark                          True\n",
              "name_mfi                         False\n",
              "weight_mfi                       False\n",
              "price_mfi                        False\n",
              "dist_qty_oper_login_1            False\n",
              "total_qty_oper_login_1           False\n",
              "total_qty_oper_login_0           False\n",
              "total_qty_over_index_and_type    False\n",
              "total_qty_over_index             False\n",
              "is_wrong_sndr_name                True\n",
              "is_wrong_rcpn_name                True\n",
              "is_wrong_phone_number             True\n",
              "is_wrong_address                  True\n",
              "dtype: bool"
            ]
          },
          "execution_count": 3,
          "metadata": {},
          "output_type": "execute_result"
        }
      ],
      "source": [
        "#Находим столбцы, в которых количество уникальных значений совпадает в обучающем и тестовом наборах данных\n",
        "\n",
        "s = df.drop('label', axis=1).nunique() == df_test.nunique()\n",
        "\n",
        "s "
      ]
    },
    {
      "cell_type": "code",
      "execution_count": null,
      "metadata": {
        "colab": {
          "base_uri": "https://localhost:8080/"
        },
        "id": "nfbDAXeT46n-",
        "outputId": "c207ccb5-3fac-46ca-a123-592a55af89a7"
      },
      "outputs": [
        {
          "data": {
            "text/plain": [
              "['type',\n",
              " 'priority',\n",
              " 'is_privatecategory',\n",
              " 'class',\n",
              " 'is_in_yandex',\n",
              " 'is_return',\n",
              " 'mailctg',\n",
              " 'mailrank',\n",
              " 'directctg',\n",
              " 'postmark',\n",
              " 'is_wrong_sndr_name',\n",
              " 'is_wrong_rcpn_name',\n",
              " 'is_wrong_phone_number',\n",
              " 'is_wrong_address']"
            ]
          },
          "execution_count": 4,
          "metadata": {},
          "output_type": "execute_result"
        }
      ],
      "source": [
        "# Фильтруем серию по значению True, остальные значения удаляем и берем индекс (так как в нём названия столбцов)\n",
        "# Это и будет список столбцов, у которых совпало количество уникальных значений в обучающем и тестовом дата-сете\n",
        "\n",
        "simple_categorical_columns= list(s.where(s==True).dropna().index)\n",
        "\n",
        "simple_categorical_columns     # Это список с именами столбцов даннных, которые мы считаем простыми категориальными"
      ]
    },
    {
      "cell_type": "code",
      "execution_count": null,
      "metadata": {
        "colab": {
          "base_uri": "https://localhost:8080/"
        },
        "id": "g7P4lVQwAxMX",
        "outputId": "7c5da339-b63d-41a0-e509-c458acf5ef7f"
      },
      "outputs": [
        {
          "data": {
            "text/plain": [
              "type                     20\n",
              "priority                  4\n",
              "is_privatecategory        3\n",
              "class                     6\n",
              "is_in_yandex              3\n",
              "is_return                 2\n",
              "mailctg                   5\n",
              "mailrank                  1\n",
              "directctg                 3\n",
              "postmark                  6\n",
              "is_wrong_sndr_name        2\n",
              "is_wrong_rcpn_name        2\n",
              "is_wrong_phone_number     2\n",
              "is_wrong_address          2\n",
              "dtype: int64"
            ]
          },
          "execution_count": 5,
          "metadata": {},
          "output_type": "execute_result"
        }
      ],
      "source": [
        "df[simple_categorical_columns].nunique()"
      ]
    },
    {
      "cell_type": "code",
      "execution_count": null,
      "metadata": {
        "colab": {
          "base_uri": "https://localhost:8080/"
        },
        "id": "lOQQxuLiBJRB",
        "outputId": "86308059-0ed9-4c40-a281-55304671ec80"
      },
      "outputs": [
        {
          "name": "stdout",
          "output_type": "stream",
          "text": [
            "Столбец:   type   Количество уникальных значений:   20 \n",
            "\n",
            "Уникальные значения в df(тренировочные данные):   ['Участок' 'ММПО' 'Цех' 'П' 'ТИ' 'ГОПС' 'МСЦ' 'СОПС' 'АО' 'МРП' 'СЦ' 'МСО'\n",
            " 'ОПП' 'АОПП' 'ПЕРЕДВИЖНОЕ ОС' 'ОП' '0' 'ППС' 'УМСЦ' 'УКД'] \n",
            "\n",
            "Уникальные значения в df_test(тестовые данные):   ['ММПО' 'ГОПС' 'ТИ' 'Цех' 'МСЦ' 'Участок' 'П' 'СОПС' 'СЦ' 'ОПП' 'АОПП'\n",
            " 'МСО' 'МРП' 'ОП' '0' 'АО' 'ППС' 'УМСЦ' 'ПЕРЕДВИЖНОЕ ОС' 'УКД'] \n",
            "\n",
            "--------------------------------------------------\n",
            "\n",
            "Столбец:   priority   Количество уникальных значений:   4 \n",
            "\n",
            "Уникальные значения в df(тренировочные данные):   [7503. 7504. 7506.    0.] \n",
            "\n",
            "Уникальные значения в df_test(тестовые данные):   [7503. 7506. 7504.    0.] \n",
            "\n",
            "--------------------------------------------------\n",
            "\n",
            "Столбец:   is_privatecategory   Количество уникальных значений:   3 \n",
            "\n",
            "Уникальные значения в df(тренировочные данные):   ['N' 'Y' '0'] \n",
            "\n",
            "Уникальные значения в df_test(тестовые данные):   ['N' 'Y' '0'] \n",
            "\n",
            "--------------------------------------------------\n",
            "\n",
            "Столбец:   class   Количество уникальных значений:   6 \n",
            "\n",
            "Уникальные значения в df(тренировочные данные):   [0. 3. 1. 2. 4. 5.] \n",
            "\n",
            "Уникальные значения в df_test(тестовые данные):   [0. 4. 3. 2. 1. 5.] \n",
            "\n",
            "--------------------------------------------------\n",
            "\n",
            "Столбец:   is_in_yandex   Количество уникальных значений:   3 \n",
            "\n",
            "Уникальные значения в df(тренировочные данные):   ['Y' 'N' '0'] \n",
            "\n",
            "Уникальные значения в df_test(тестовые данные):   ['N' 'Y' '0'] \n",
            "\n",
            "--------------------------------------------------\n",
            "\n",
            "Столбец:   is_return   Количество уникальных значений:   2 \n",
            "\n",
            "Уникальные значения в df(тренировочные данные):   ['N' 'Y'] \n",
            "\n",
            "Уникальные значения в df_test(тестовые данные):   ['N' 'Y'] \n",
            "\n",
            "--------------------------------------------------\n",
            "\n",
            "Столбец:   mailctg   Количество уникальных значений:   5 \n",
            "\n",
            "Уникальные значения в df(тренировочные данные):   [ 1.  0. -1.  3.  5.] \n",
            "\n",
            "Уникальные значения в df_test(тестовые данные):   [ 1.  0. -1.  3.  5.] \n",
            "\n",
            "--------------------------------------------------\n",
            "\n",
            "Столбец:   mailrank   Количество уникальных значений:   1 \n",
            "\n",
            "Уникальные значения в df(тренировочные данные):   [0.] \n",
            "\n",
            "Уникальные значения в df_test(тестовые данные):   [0.] \n",
            "\n",
            "--------------------------------------------------\n",
            "\n",
            "Столбец:   directctg   Количество уникальных значений:   3 \n",
            "\n",
            "Уникальные значения в df(тренировочные данные):   [2. 1. 0.] \n",
            "\n",
            "Уникальные значения в df_test(тестовые данные):   [2. 1. 0.] \n",
            "\n",
            "--------------------------------------------------\n",
            "\n",
            "Столбец:   postmark   Количество уникальных значений:   6 \n",
            "\n",
            "Уникальные значения в df(тренировочные данные):   [0.000e+00 5.120e+02 1.024e+03 8.000e+00 2.560e+02 1.000e+00] \n",
            "\n",
            "Уникальные значения в df_test(тестовые данные):   [0.000e+00 1.024e+03 5.120e+02 2.560e+02 8.000e+00 1.000e+00] \n",
            "\n",
            "--------------------------------------------------\n",
            "\n",
            "Столбец:   is_wrong_sndr_name   Количество уникальных значений:   2 \n",
            "\n",
            "Уникальные значения в df(тренировочные данные):   [0 1] \n",
            "\n",
            "Уникальные значения в df_test(тестовые данные):   [0 1] \n",
            "\n",
            "--------------------------------------------------\n",
            "\n",
            "Столбец:   is_wrong_rcpn_name   Количество уникальных значений:   2 \n",
            "\n",
            "Уникальные значения в df(тренировочные данные):   [0 1] \n",
            "\n",
            "Уникальные значения в df_test(тестовые данные):   [0 1] \n",
            "\n",
            "--------------------------------------------------\n",
            "\n",
            "Столбец:   is_wrong_phone_number   Количество уникальных значений:   2 \n",
            "\n",
            "Уникальные значения в df(тренировочные данные):   [0 1] \n",
            "\n",
            "Уникальные значения в df_test(тестовые данные):   [0 1] \n",
            "\n",
            "--------------------------------------------------\n",
            "\n",
            "Столбец:   is_wrong_address   Количество уникальных значений:   2 \n",
            "\n",
            "Уникальные значения в df(тренировочные данные):   [0 1] \n",
            "\n",
            "Уникальные значения в df_test(тестовые данные):   [0 1] \n",
            "\n",
            "--------------------------------------------------\n",
            "\n"
          ]
        }
      ],
      "source": [
        "# Проверяем здесь, что сами виды уникальных значении в отоборанных столбцах\n",
        "# в обучающей и тестовой выборке тоже совпадают\n",
        "\n",
        "for x in simple_categorical_columns:\n",
        "\n",
        "    print('Столбец:  ', x, '  Количество уникальных значений:  ', df[x].nunique(),'\\n')\n",
        "\n",
        "    print('Уникальные значения в df(тренировочные данные):  ', df[x].unique(),'\\n')\n",
        "    print('Уникальные значения в df_test(тестовые данные):  ', df_test[x].unique(),'\\n')\n",
        "\n",
        "    print('--------------------------------------------------\\n')"
      ]
    },
    {
      "cell_type": "code",
      "execution_count": null,
      "metadata": {
        "colab": {
          "base_uri": "https://localhost:8080/"
        },
        "id": "j-kZF7TbAMro",
        "outputId": "4c677ffd-c1e8-4001-f385-6569556cd597"
      },
      "outputs": [
        {
          "data": {
            "text/plain": [
              "['type',\n",
              " 'priority',\n",
              " 'is_privatecategory',\n",
              " 'class',\n",
              " 'is_in_yandex',\n",
              " 'is_return',\n",
              " 'mailctg',\n",
              " 'directctg',\n",
              " 'postmark',\n",
              " 'is_wrong_sndr_name',\n",
              " 'is_wrong_rcpn_name',\n",
              " 'is_wrong_phone_number',\n",
              " 'is_wrong_address']"
            ]
          },
          "execution_count": 7,
          "metadata": {},
          "output_type": "execute_result"
        }
      ],
      "source": [
        "# Удаляем из списка для обработки столбец 'mailrank' \n",
        "# так там только один вид значений, а значит столбец не информативен\n",
        "\n",
        "simple_categorical_columns.remove('mailrank')\n",
        "\n",
        "simple_categorical_columns"
      ]
    },
    {
      "cell_type": "code",
      "execution_count": null,
      "metadata": {
        "colab": {
          "base_uri": "https://localhost:8080/"
        },
        "id": "TMbMgIb5BsPP",
        "outputId": "0eecb398-9408-4ddb-b1e7-43a30b989851"
      },
      "outputs": [
        {
          "data": {
            "text/plain": [
              "['mailrank']"
            ]
          },
          "execution_count": 8,
          "metadata": {},
          "output_type": "execute_result"
        }
      ],
      "source": [
        "# Так же создаём переменную для хранения списка бесполезных столбоцов и записываем туда 'mailrank'\n",
        "\n",
        "useless_columns = list(['mailrank'])\n",
        "\n",
        "useless_columns"
      ]
    },
    {
      "cell_type": "code",
      "execution_count": null,
      "metadata": {
        "colab": {
          "base_uri": "https://localhost:8080/"
        },
        "id": "boYfX7DnWUxs",
        "outputId": "d098b259-26c8-4f97-9cea-3be4957d6cdf"
      },
      "outputs": [
        {
          "data": {
            "text/plain": [
              "{'type': ['Участок',\n",
              "  'ММПО',\n",
              "  'Цех',\n",
              "  'П',\n",
              "  'ТИ',\n",
              "  'ГОПС',\n",
              "  'МСЦ',\n",
              "  'СОПС',\n",
              "  'АО',\n",
              "  'МРП',\n",
              "  'СЦ',\n",
              "  'МСО',\n",
              "  'ОПП',\n",
              "  'АОПП',\n",
              "  'ПЕРЕДВИЖНОЕ ОС',\n",
              "  'ОП',\n",
              "  '0',\n",
              "  'ППС',\n",
              "  'УМСЦ',\n",
              "  'УКД'],\n",
              " 'priority': [7503.0, 7504.0, 7506.0, 0.0],\n",
              " 'is_privatecategory': ['N', 'Y', '0'],\n",
              " 'class': [0.0, 3.0, 1.0, 2.0, 4.0, 5.0],\n",
              " 'is_in_yandex': ['Y', 'N', '0'],\n",
              " 'is_return': ['N', 'Y'],\n",
              " 'mailctg': [1.0, 0.0, -1.0, 3.0, 5.0],\n",
              " 'directctg': [2.0, 1.0, 0.0],\n",
              " 'postmark': [0.0, 512.0, 1024.0, 8.0, 256.0, 1.0],\n",
              " 'is_wrong_sndr_name': [0, 1],\n",
              " 'is_wrong_rcpn_name': [0, 1],\n",
              " 'is_wrong_phone_number': [0, 1],\n",
              " 'is_wrong_address': [0, 1]}"
            ]
          },
          "execution_count": 9,
          "metadata": {},
          "output_type": "execute_result"
        }
      ],
      "source": [
        "# Cобираем словарь значений для простой предобработки в формат OHE\n",
        "\n",
        "dict_simple_categorical_columns = {}\n",
        "\n",
        "for x in simple_categorical_columns:\n",
        "    # dict_simple_categorical_columns[x] = df[x].unique()                # Версия чтобы список был в формате numpy\n",
        "    dict_simple_categorical_columns[x] = list( df[x].unique() )\n",
        "\n",
        "dict_simple_categorical_columns"
      ]
    },
    {
      "cell_type": "code",
      "execution_count": null,
      "metadata": {
        "id": "LjpjPdv8m0uz"
      },
      "outputs": [],
      "source": [
        "# Сначала обрабатываем столбцы входящих данных с простыми категориальными данными\n",
        "# То есть с данным, количество и состав категорий полностью совпадает \n",
        "# в обучающем и тестовом дата-фрейме.\n",
        "\n",
        "def simple_categorical_data (df, start_num, stop_num, simple_categorical_columns, dict_simple_categorical_columns):\n",
        "\n",
        "    simple_OHE = []\n",
        "    len_df = stop_num - start_num\n",
        "\n",
        "    t0 = time.time()\n",
        "    t_clear = t0\n",
        "\n",
        "    for y_line in range(start_num, stop_num):      # Для каждой стоки датасета обрабатываем столбцы из списка simple_categorical_columns\n",
        "\n",
        "        t1 = time.time()\n",
        "\n",
        "        if (t1 - t_clear) > 5 :  \n",
        "            output.clear()                   \n",
        "            print('Готово: ', y_line - start_num )\n",
        "            print('Это ', round((y_line - start_num) / len_df * 100, 4), ' % от', len_df,' строк')\n",
        "            print('Времени прошло с начала: ', round(t1 - t0), ' секунд')\n",
        "            t_clear = t1\n",
        "\n",
        "        one_line = np.empty( shape=0 )\n",
        "        \n",
        "        for x_col in simple_categorical_columns:\n",
        "\n",
        "            z = df.iloc[y_line][x_col]     # Значение, которое кодируем в этой итерации \n",
        "\n",
        "            # n = np.where(dict_simple_categorical_columns[x_col] == z)[0][0]    # Строка для получения индекса, если в словаре список значения в формате numpy\n",
        "            # n = np.argwhere(dict_simple_categorical_columns[x_col] == z)[0][0] # Ещё один способ для Numpy массивов.\n",
        "            n = dict_simple_categorical_columns[x_col].index(z)     # Получаем индекс текущего значения в полученном словаре (версия, если в словаре значения в формате list)\n",
        "\n",
        "            d = len(dict_simple_categorical_columns[x_col])      # Длинну словаря получаем для текущего столбца\n",
        "\n",
        "            ohe = utils.to_categorical( n, d )          # Переводим в формат One Hot Encoding\n",
        "\n",
        "            one_line = np.append( one_line, ohe)        # Добавляем значение текущего столбца к строке\n",
        "\n",
        "        simple_OHE.append(one_line)       # Добавляем полученную стоку в список    \n",
        "\n",
        "    simple_OHE = np.array(simple_OHE)     # Выход сразу делаем в формате Numpy \n",
        "\n",
        "    print('\\nОбработка завершена. Готово 100%')\n",
        "    print('Времени затрачено на обработку: ', round(time.time() - t0), ' секунд')\n",
        "\n",
        "    return simple_OHE"
      ]
    },
    {
      "cell_type": "code",
      "execution_count": null,
      "metadata": {
        "colab": {
          "base_uri": "https://localhost:8080/"
        },
        "id": "oBv8DVWuNJZc",
        "outputId": "4ffc2046-442a-4503-c174-2e23ccd020a9"
      },
      "outputs": [
        {
          "name": "stdout",
          "output_type": "stream",
          "text": [
            "Готово:  4201\n",
            "Это  70.0167  % от 6000  строк\n",
            "Времени прошло с начала:  10  секунд\n",
            "\n",
            "Обработка завершена. Готово 100%\n",
            "Времени затрачено на обработку:  14  секунд\n"
          ]
        }
      ],
      "source": [
        "# Тестовый запуск функции обработки простых категориальных данных\n",
        "\n",
        "k = simple_categorical_data (df, 0, 6000, simple_categorical_columns, dict_simple_categorical_columns)"
      ]
    },
    {
      "cell_type": "markdown",
      "metadata": {
        "id": "pSwmxkwmYnyt"
      },
      "source": [
        "## Пошаговая обработка датасета с сохранением копии файлов на гугл-диск\n",
        "(понадобилась потому, что при длительной обработке колаб отваливался)"
      ]
    },
    {
      "cell_type": "code",
      "execution_count": null,
      "metadata": {
        "colab": {
          "background_save": true
        },
        "id": "_BTRli90YznG",
        "outputId": "667fc7e3-a370-421a-9856-d896a48aba47"
      },
      "outputs": [
        {
          "name": "stdout",
          "output_type": "stream",
          "text": [
            "Готово:  999705\n",
            "Это  99.9705  % от 1000000  строк\n",
            "Времени прошло с начала:  2381  секунд\n",
            "\n",
            "Обработка завершена. Готово 100%\n",
            "Времени затрачено на обработку:  2384  секунд\n",
            "\n",
            "--------------------------------------------------------------\n"
          ]
        }
      ],
      "source": [
        "lines_in_file = 1000000           # Задаём количество строк, которые будем обрабатывать, перед сохранением в файл\n",
        "\n",
        "start_line = 0             # Первая строка с которой будем обрабатывать\n",
        "end_line = df_test.shape[0]     # До куда будем обрабатывать массив\n",
        "\n",
        "cur_start = start_line                  # Стартовая пременная которая будет использоваться в цикле\n",
        " \n",
        "\n",
        "while cur_start < end_line:\n",
        "\n",
        "    cur_end = cur_start + lines_in_file     # Задаём конечную точку, до какой строки будет обрабатываться массив в этой итерации\n",
        "\n",
        "    if cur_end > end_line :\n",
        "        cur_end = end_line                  # Если конечная точка вышла за пределы, то устанавливаем её как размер массива\n",
        "    \n",
        "    print('Сейчас обрабатываются строки с ',cur_start+1, ' по ', cur_end)\n",
        "\n",
        "    k = simple_categorical_data (df_test, cur_start, cur_end, simple_categorical_columns, dict_simple_categorical_columns)   # Запускаем обработку\n",
        "\n",
        "    file_name = 'test_simple_cat_'+str(round(cur_start+1))+'_'+str(round(cur_end))           # Формируем имя файла\n",
        " \n",
        "    np.save(file_name, k)                                                               # Сохраняем результаты обработки в файл\n",
        "\n",
        "    os.system('gzip ' + file_name + '.npy')       # Архивируем файл\n",
        "    \n",
        "    os.system('cp ' + file_name + '.npy.gz /content/drive/MyDrive/TemporaryData/' + file_name + '.npy.gz')      # Делаем копию на гугл-драйв\n",
        "\n",
        "    print('\\n--------------------------------------------------------------')\n",
        "\n",
        "    cur_start += lines_in_file       "
      ]
    },
    {
      "cell_type": "markdown",
      "source": [
        "Ниже распаковываем файлы после обработки, объединяем в один и сохраняем уже единым куском."
      ],
      "metadata": {
        "id": "x1PYMpaaY5FS"
      }
    },
    {
      "cell_type": "markdown",
      "source": [
        "Сначала обрабатываем тестовый дата сет"
      ],
      "metadata": {
        "id": "W1MR1pvAZ4aY"
      }
    },
    {
      "cell_type": "code",
      "source": [
        "# Распаковываем файлы\n",
        "\n",
        "os.system('gunzip test_simple_cat_1000001_2000000.npy.gz test_simple_cat_1_1000000.npy.gz test_simple_cat_2000001_3000000.npy.gz test_simple_cat_3000001_4000000.npy.gz')\n"
      ],
      "metadata": {
        "colab": {
          "base_uri": "https://localhost:8080/"
        },
        "id": "d6PUIRyuQl0R",
        "outputId": "9f5151f8-9577-414b-e276-bf6d10298073"
      },
      "execution_count": null,
      "outputs": [
        {
          "output_type": "execute_result",
          "data": {
            "text/plain": [
              "0"
            ]
          },
          "metadata": {},
          "execution_count": 13
        }
      ]
    },
    {
      "cell_type": "code",
      "source": [
        "# Загружаем и объединяем данные в один массив\n",
        "\n",
        "test_simple_cat = np.concatenate((np.load('/content/test_simple_cat_1_1000000.npy'),\n",
        "                                  np.load('/content/test_simple_cat_1000001_2000000.npy'),\n",
        "                                  np.load('/content/test_simple_cat_2000001_3000000.npy'), \n",
        "                                  np.load('/content/test_simple_cat_3000001_4000000.npy')))\n",
        "\n",
        "print(test_simple_cat.shape)\n",
        "\n",
        "np.save('test_simple_cat', test_simple_cat)\n",
        "\n",
        "os.system('gzip -k -v test_simple_cat.npy')\n",
        "\n",
        "os.system('cp test_simple_cat.npy.gz /content/drive/MyDrive/TemporaryData/test_simple_cat.npy.gz')"
      ],
      "metadata": {
        "colab": {
          "base_uri": "https://localhost:8080/"
        },
        "id": "nW3XYKU3Sqbz",
        "outputId": "8b50e216-85db-475c-ec48-95ef3c5ad9e8"
      },
      "execution_count": null,
      "outputs": [
        {
          "output_type": "stream",
          "name": "stdout",
          "text": [
            "(4000000, 60)\n"
          ]
        },
        {
          "output_type": "execute_result",
          "data": {
            "text/plain": [
              "0"
            ]
          },
          "metadata": {},
          "execution_count": 33
        }
      ]
    },
    {
      "cell_type": "markdown",
      "source": [
        "Здесь объединяем обучающий дата-сет"
      ],
      "metadata": {
        "id": "KOyjO_tRZ-Y9"
      }
    },
    {
      "cell_type": "code",
      "source": [
        "# Копируем файлы с гугл-диска в колаб\n",
        "\n",
        "os.system('cp /content/drive/MyDrive/TemporaryData/train_simple_cat_1_1000000.npy.gz       train_simple_cat_1_1000000.npy.gz')\n",
        "os.system('cp /content/drive/MyDrive/TemporaryData/train_simple_cat_1000001_2000000.npy.gz train_simple_cat_1000001_2000000.npy.gz')\n",
        "os.system('cp /content/drive/MyDrive/TemporaryData/train_simple_cat_2000001_3000000.npy.gz train_simple_cat_2000001_3000000.npy.gz')\n",
        "os.system('cp /content/drive/MyDrive/TemporaryData/train_simple_cat_3000001_4000000.npy.gz train_simple_cat_3000001_4000000.npy.gz')\n",
        "os.system('cp /content/drive/MyDrive/TemporaryData/train_simple_cat_4000001_5000000.npy.gz train_simple_cat_4000001_5000000.npy.gz')\n",
        "os.system('cp /content/drive/MyDrive/TemporaryData/train_simple_cat_5000001_6000000.npy.gz train_simple_cat_5000001_6000000.npy.gz')"
      ],
      "metadata": {
        "colab": {
          "base_uri": "https://localhost:8080/"
        },
        "id": "MR9sia6CaGRg",
        "outputId": "d8556d5e-d22c-4056-e890-2aa0815d63be"
      },
      "execution_count": null,
      "outputs": [
        {
          "output_type": "execute_result",
          "data": {
            "text/plain": [
              "0"
            ]
          },
          "metadata": {},
          "execution_count": 37
        }
      ]
    },
    {
      "cell_type": "code",
      "source": [
        "# Распаковываем файлы\n",
        "\n",
        "os.system('gunzip train_simple_cat_1_1000000.npy.gz')\n",
        "os.system('gunzip train_simple_cat_1000001_2000000.npy.gz')\n",
        "os.system('gunzip train_simple_cat_2000001_3000000.npy.gz')\n",
        "os.system('gunzip train_simple_cat_3000001_4000000.npy.gz')\n",
        "os.system('gunzip train_simple_cat_4000001_5000000.npy.gz')\n",
        "os.system('gunzip train_simple_cat_5000001_6000000.npy.gz')"
      ],
      "metadata": {
        "colab": {
          "base_uri": "https://localhost:8080/"
        },
        "id": "5GMcXYMcbuiV",
        "outputId": "5f63433d-38e4-4716-a9d7-1eb4a194ce6b"
      },
      "execution_count": null,
      "outputs": [
        {
          "output_type": "execute_result",
          "data": {
            "text/plain": [
              "0"
            ]
          },
          "metadata": {},
          "execution_count": 38
        }
      ]
    },
    {
      "cell_type": "code",
      "source": [
        "# Объединяем данные в один массив и сохраняем копию на гугл-диске\n",
        "\n",
        "train_simple_cat = np.concatenate((np.load('/content/train_simple_cat_1_1000000.npy'),\n",
        "                                   np.load('/content/train_simple_cat_1000001_2000000.npy'),\n",
        "                                   np.load('/content/train_simple_cat_2000001_3000000.npy'), \n",
        "                                   np.load('/content/train_simple_cat_3000001_4000000.npy'),\n",
        "                                   np.load('/content/train_simple_cat_4000001_5000000.npy'),\n",
        "                                   np.load('/content/train_simple_cat_5000001_6000000.npy') ))\n",
        "\n",
        "print(train_simple_cat.shape)\n",
        "\n",
        "np.save('train_simple_cat', train_simple_cat)\n",
        "\n",
        "os.system('gzip -k -v train_simple_cat.npy')\n",
        "\n",
        "os.system('cp train_simple_cat.npy.gz /content/drive/MyDrive/TemporaryData/train_simple_cat.npy.gz')"
      ],
      "metadata": {
        "colab": {
          "base_uri": "https://localhost:8080/"
        },
        "id": "kt7x8uLpcm7i",
        "outputId": "620af174-907b-4f04-af33-ee31376b461a"
      },
      "execution_count": null,
      "outputs": [
        {
          "output_type": "stream",
          "name": "stdout",
          "text": [
            "(6000000, 60)\n"
          ]
        },
        {
          "output_type": "execute_result",
          "data": {
            "text/plain": [
              "0"
            ]
          },
          "metadata": {},
          "execution_count": 3
        }
      ]
    },
    {
      "cell_type": "markdown",
      "source": [
        "# Выход готовим методом OHE\n",
        "\n",
        "Вместо одного столбца на выход, делаем два.\n",
        "\n",
        "Легенда данных:\n",
        "- если на выходе должен быть \"0\" -- единичка получается в первом значении.\n",
        "- если на выходе должно быть \"1\" -- единичка получается во втором значении."
      ],
      "metadata": {
        "id": "l8uhAGVIiq9p"
      }
    },
    {
      "cell_type": "code",
      "source": [
        "df['label'].unique()"
      ],
      "metadata": {
        "colab": {
          "base_uri": "https://localhost:8080/"
        },
        "id": "1Ti-D8bfiyg5",
        "outputId": "9dda67bb-53bd-4048-eab0-49c5627d803f"
      },
      "execution_count": null,
      "outputs": [
        {
          "output_type": "execute_result",
          "data": {
            "text/plain": [
              "array([0, 1])"
            ]
          },
          "metadata": {},
          "execution_count": 5
        }
      ]
    },
    {
      "cell_type": "code",
      "source": [
        "s2 = np.array(df['label'], dtype='float')\n",
        "s2"
      ],
      "metadata": {
        "colab": {
          "base_uri": "https://localhost:8080/"
        },
        "id": "g_sWny2WrcZt",
        "outputId": "6833bfdb-9794-46c8-c76f-316104d70b79"
      },
      "execution_count": null,
      "outputs": [
        {
          "output_type": "execute_result",
          "data": {
            "text/plain": [
              "array([0., 0., 0., ..., 0., 0., 0.])"
            ]
          },
          "metadata": {},
          "execution_count": 6
        }
      ]
    },
    {
      "cell_type": "code",
      "source": [
        "s1 = np.array(s2 != 1, dtype = 'float')\n",
        "s1"
      ],
      "metadata": {
        "colab": {
          "base_uri": "https://localhost:8080/"
        },
        "id": "o2qsfA9oG7iv",
        "outputId": "bb31df2c-873e-42fb-873b-4357d43f5ee0"
      },
      "execution_count": null,
      "outputs": [
        {
          "output_type": "execute_result",
          "data": {
            "text/plain": [
              "array([1., 1., 1., ..., 1., 1., 1.])"
            ]
          },
          "metadata": {},
          "execution_count": 7
        }
      ]
    },
    {
      "cell_type": "code",
      "source": [
        "s1 = s1.reshape(s1.shape[0], 1)   # Меняем форму данных со строки на столбец.\n",
        "s1"
      ],
      "metadata": {
        "colab": {
          "base_uri": "https://localhost:8080/"
        },
        "id": "1ZEX5cjMIB1u",
        "outputId": "7cb9f1fe-b85d-4292-f9fb-a03401a30cb8"
      },
      "execution_count": null,
      "outputs": [
        {
          "output_type": "execute_result",
          "data": {
            "text/plain": [
              "array([[1.],\n",
              "       [1.],\n",
              "       [1.],\n",
              "       ...,\n",
              "       [1.],\n",
              "       [1.],\n",
              "       [1.]])"
            ]
          },
          "metadata": {},
          "execution_count": 8
        }
      ]
    },
    {
      "cell_type": "code",
      "source": [
        "s2 = s2.reshape(s2.shape[0], 1)\n",
        "s2"
      ],
      "metadata": {
        "colab": {
          "base_uri": "https://localhost:8080/"
        },
        "id": "NknpTw9PIZbe",
        "outputId": "52bf6d0b-9bcb-4614-ac0b-b544978ef020"
      },
      "execution_count": null,
      "outputs": [
        {
          "output_type": "execute_result",
          "data": {
            "text/plain": [
              "array([[0.],\n",
              "       [0.],\n",
              "       [0.],\n",
              "       ...,\n",
              "       [0.],\n",
              "       [0.],\n",
              "       [0.]])"
            ]
          },
          "metadata": {},
          "execution_count": 9
        }
      ]
    },
    {
      "cell_type": "code",
      "source": [
        "y_train = np.concatenate((s1,s2), axis = 1)    # Объединяем столбцы для получения итогового выходного массива\n",
        "y_train"
      ],
      "metadata": {
        "colab": {
          "base_uri": "https://localhost:8080/"
        },
        "id": "c-wC_V8ZI7rm",
        "outputId": "8b13e591-8dc9-47d9-9bf0-5f8e9b865ccf"
      },
      "execution_count": null,
      "outputs": [
        {
          "output_type": "execute_result",
          "data": {
            "text/plain": [
              "array([[1., 0.],\n",
              "       [1., 0.],\n",
              "       [1., 0.],\n",
              "       ...,\n",
              "       [1., 0.],\n",
              "       [1., 0.],\n",
              "       [1., 0.]])"
            ]
          },
          "metadata": {},
          "execution_count": 10
        }
      ]
    },
    {
      "cell_type": "code",
      "source": [
        " # Для будущей загрузки, в целях экономии памяти, сохраняем на диск\n",
        "\n",
        "np.save('y_train', y_train)   \n",
        "\n",
        "!gzip 'y_train.npy'\n",
        "\n",
        "os.system('cp y_train.npy.gz /content/drive/MyDrive/TemporaryData/y_train.npy.gz')"
      ],
      "metadata": {
        "colab": {
          "base_uri": "https://localhost:8080/"
        },
        "id": "KAkP5IPm99mH",
        "outputId": "888c88f4-25bd-4882-c1e1-e6288d34abfb"
      },
      "execution_count": null,
      "outputs": [
        {
          "output_type": "execute_result",
          "data": {
            "text/plain": [
              "0"
            ]
          },
          "metadata": {},
          "execution_count": 16
        }
      ]
    },
    {
      "cell_type": "code",
      "source": [
        "y_train.shape"
      ],
      "metadata": {
        "colab": {
          "base_uri": "https://localhost:8080/"
        },
        "id": "q7R_cH9tJYpt",
        "outputId": "752f53e7-cafb-4daf-c34d-7a1bcf129c1d"
      },
      "execution_count": null,
      "outputs": [
        {
          "output_type": "execute_result",
          "data": {
            "text/plain": [
              "(6000000, 2)"
            ]
          },
          "metadata": {},
          "execution_count": 5
        }
      ]
    },
    {
      "cell_type": "markdown",
      "source": [
        "# Делаем первую модель, на вход подаём только простые категориальные данные в предобработанной форме (формат One Hot Encoding)"
      ],
      "metadata": {
        "id": "Rh6D5soWOKZr"
      }
    },
    {
      "cell_type": "code",
      "source": [
        "model = Sequential()\n",
        "\n",
        "model.add(Dense(60, activation='relu'))\n",
        "model.add(Dense(150, activation='tanh'))\n",
        "model.add(Dense(100, activation='relu'))\n",
        "model.add(Dense(2, activation='sigmoid'))\n"
      ],
      "metadata": {
        "id": "Q88QEUrNOaNN"
      },
      "execution_count": null,
      "outputs": []
    },
    {
      "cell_type": "code",
      "source": [
        "\n",
        "model.compile(optimizer=Adam(learning_rate=1e-4), loss='mse', metrics=['mae'])"
      ],
      "metadata": {
        "id": "5uDuKfRzQFhy"
      },
      "execution_count": null,
      "outputs": []
    },
    {
      "cell_type": "code",
      "source": [
        "history = model.fit(train_simple_cat, \n",
        "                    y_train, \n",
        "                    epochs=10, \n",
        "                    batch_size=1000,\n",
        "                    validation_split=0.3, \n",
        "                    verbose=2)\n",
        "\n",
        "plt.plot(history.history['mae'], \n",
        "         label='Средняя абсолютная ошибка на обучающем наборе')\n",
        "plt.plot(history.history['val_mae'], \n",
        "         label='Средняя абсолютная ошибка на проверочном наборе')\n",
        "plt.xlabel('Эпоха обучения')\n",
        "plt.ylabel('Средняя абсолютная ошибка')\n",
        "plt.legend()\n",
        "plt.show()"
      ],
      "metadata": {
        "colab": {
          "base_uri": "https://localhost:8080/",
          "height": 662
        },
        "id": "mRlP8mOqMnmZ",
        "outputId": "6104ae7c-4c06-4df7-9871-d9134a2e0567"
      },
      "execution_count": null,
      "outputs": [
        {
          "output_type": "stream",
          "name": "stdout",
          "text": [
            "Epoch 1/10\n",
            "4200/4200 - 13s - loss: 0.0268 - mae: 0.0599 - val_loss: 0.0248 - val_mae: 0.0507 - 13s/epoch - 3ms/step\n",
            "Epoch 2/10\n",
            "4200/4200 - 13s - loss: 0.0246 - mae: 0.0496 - val_loss: 0.0247 - val_mae: 0.0501 - 13s/epoch - 3ms/step\n",
            "Epoch 3/10\n",
            "4200/4200 - 13s - loss: 0.0246 - mae: 0.0492 - val_loss: 0.0247 - val_mae: 0.0499 - 13s/epoch - 3ms/step\n",
            "Epoch 4/10\n",
            "4200/4200 - 13s - loss: 0.0246 - mae: 0.0490 - val_loss: 0.0247 - val_mae: 0.0499 - 13s/epoch - 3ms/step\n",
            "Epoch 5/10\n",
            "4200/4200 - 13s - loss: 0.0246 - mae: 0.0490 - val_loss: 0.0247 - val_mae: 0.0488 - 13s/epoch - 3ms/step\n",
            "Epoch 6/10\n",
            "4200/4200 - 11s - loss: 0.0246 - mae: 0.0490 - val_loss: 0.0247 - val_mae: 0.0504 - 11s/epoch - 3ms/step\n",
            "Epoch 7/10\n",
            "4200/4200 - 13s - loss: 0.0246 - mae: 0.0490 - val_loss: 0.0247 - val_mae: 0.0495 - 13s/epoch - 3ms/step\n",
            "Epoch 8/10\n",
            "4200/4200 - 13s - loss: 0.0246 - mae: 0.0490 - val_loss: 0.0247 - val_mae: 0.0500 - 13s/epoch - 3ms/step\n",
            "Epoch 9/10\n",
            "4200/4200 - 13s - loss: 0.0246 - mae: 0.0491 - val_loss: 0.0247 - val_mae: 0.0497 - 13s/epoch - 3ms/step\n",
            "Epoch 10/10\n",
            "4200/4200 - 11s - loss: 0.0246 - mae: 0.0491 - val_loss: 0.0247 - val_mae: 0.0496 - 11s/epoch - 3ms/step\n"
          ]
        },
        {
          "output_type": "display_data",
          "data": {
            "text/plain": [
              "<Figure size 432x288 with 1 Axes>"
            ],
            "image/png": "[encoded data removed]"
          },
          "metadata": {
            "needs_background": "light"
          }
        }
      ]
    },
    {
      "cell_type": "markdown",
      "source": [
        "# Делаем предикт по тестовым данных и готовим выход для загрузки на платформу"
      ],
      "metadata": {
        "id": "fVcMYnFfPw86"
      }
    },
    {
      "cell_type": "code",
      "source": [
        "pred = model.predict(test_simple_cat)"
      ],
      "metadata": {
        "id": "Nf20nIjUP5wx"
      },
      "execution_count": null,
      "outputs": []
    },
    {
      "cell_type": "code",
      "source": [
        "test_simple_cat.shape"
      ],
      "metadata": {
        "colab": {
          "base_uri": "https://localhost:8080/"
        },
        "id": "luwvgbyHTNsA",
        "outputId": "9b75d3e3-5d6b-429c-b803-32014f3ba6e3"
      },
      "execution_count": null,
      "outputs": [
        {
          "output_type": "execute_result",
          "data": {
            "text/plain": [
              "(4000000, 60)"
            ]
          },
          "metadata": {},
          "execution_count": 18
        }
      ]
    },
    {
      "cell_type": "code",
      "source": [
        "pred.shape"
      ],
      "metadata": {
        "colab": {
          "base_uri": "https://localhost:8080/"
        },
        "id": "e3fbI-SQTSQ2",
        "outputId": "0ae8ffc0-663b-4583-84e8-5c61c85a4e32"
      },
      "execution_count": null,
      "outputs": [
        {
          "output_type": "execute_result",
          "data": {
            "text/plain": [
              "(4000000, 2)"
            ]
          },
          "metadata": {},
          "execution_count": 19
        }
      ]
    },
    {
      "cell_type": "code",
      "source": [
        "pred[0]"
      ],
      "metadata": {
        "colab": {
          "base_uri": "https://localhost:8080/"
        },
        "id": "nzWm5XzGTfAj",
        "outputId": "f986b5dd-a713-41db-948b-66f0491fe245"
      },
      "execution_count": null,
      "outputs": [
        {
          "output_type": "execute_result",
          "data": {
            "text/plain": [
              "array([0.9700844 , 0.02967063], dtype=float32)"
            ]
          },
          "metadata": {},
          "execution_count": 20
        }
      ]
    },
    {
      "cell_type": "code",
      "source": [
        "r = np.array( pred.T[0] < pred.T[1], dtype = 'int64')"
      ],
      "metadata": {
        "id": "Nzs5XqjLUEkv"
      },
      "execution_count": null,
      "outputs": []
    },
    {
      "cell_type": "code",
      "source": [
        "r.shape"
      ],
      "metadata": {
        "colab": {
          "base_uri": "https://localhost:8080/"
        },
        "id": "X45va9drVn6M",
        "outputId": "e5e34c96-fcec-4453-af8c-c5a2f32669d9"
      },
      "execution_count": null,
      "outputs": [
        {
          "output_type": "execute_result",
          "data": {
            "text/plain": [
              "(4000000,)"
            ]
          },
          "metadata": {},
          "execution_count": 22
        }
      ]
    },
    {
      "cell_type": "code",
      "source": [
        "df_sample_solution.info()"
      ],
      "metadata": {
        "colab": {
          "base_uri": "https://localhost:8080/"
        },
        "id": "6FHnZ3mDWjzQ",
        "outputId": "23874405-2ef5-4ae6-cd1c-fa3cf4de1c7c"
      },
      "execution_count": null,
      "outputs": [
        {
          "output_type": "stream",
          "name": "stdout",
          "text": [
            "<class 'pandas.core.frame.DataFrame'>\n",
            "RangeIndex: 4000000 entries, 0 to 3999999\n",
            "Data columns (total 2 columns):\n",
            " #   Column  Dtype\n",
            "---  ------  -----\n",
            " 0   id      int64\n",
            " 1   label   int64\n",
            "dtypes: int64(2)\n",
            "memory usage: 61.0 MB\n"
          ]
        }
      ]
    },
    {
      "cell_type": "code",
      "source": [
        "df_result = df_sample_solution"
      ],
      "metadata": {
        "id": "thLUa5NwWHl7"
      },
      "execution_count": null,
      "outputs": []
    },
    {
      "cell_type": "code",
      "source": [
        "df_result['label'] = r"
      ],
      "metadata": {
        "id": "u5wFa9C3W-3O"
      },
      "execution_count": null,
      "outputs": []
    },
    {
      "cell_type": "code",
      "source": [
        "df_result['label'].value_counts()"
      ],
      "metadata": {
        "colab": {
          "base_uri": "https://localhost:8080/"
        },
        "id": "19u4o39jE9fJ",
        "outputId": "fdb7f0a8-8bd2-4ece-8887-39dd572aeb8c"
      },
      "execution_count": null,
      "outputs": [
        {
          "output_type": "execute_result",
          "data": {
            "text/plain": [
              "0    3999638\n",
              "1        362\n",
              "Name: label, dtype: int64"
            ]
          },
          "metadata": {},
          "execution_count": 31
        }
      ]
    },
    {
      "cell_type": "code",
      "source": [
        "df_result.info()"
      ],
      "metadata": {
        "colab": {
          "base_uri": "https://localhost:8080/"
        },
        "id": "eUzjF0hLFZu6",
        "outputId": "9ed282b7-5f00-45ef-9977-640d30f9f5a7"
      },
      "execution_count": null,
      "outputs": [
        {
          "output_type": "stream",
          "name": "stdout",
          "text": [
            "<class 'pandas.core.frame.DataFrame'>\n",
            "RangeIndex: 4000000 entries, 0 to 3999999\n",
            "Data columns (total 2 columns):\n",
            " #   Column  Dtype\n",
            "---  ------  -----\n",
            " 0   id      int64\n",
            " 1   label   int64\n",
            "dtypes: int64(2)\n",
            "memory usage: 61.0 MB\n"
          ]
        }
      ]
    },
    {
      "cell_type": "code",
      "source": [
        "df_result.to_csv(\"simple_can_1.csv\",sep=\",\", index=False, line_terminator='\\n')"
      ],
      "metadata": {
        "id": "Pk_lhaxSF2Fe"
      },
      "execution_count": null,
      "outputs": []
    }
  ],
  "metadata": {
    "colab": {
      "provenance": [],
      "toc_visible": true,
      "mount_file_id": "1gKL_9ELLIEfdi7_uAkcDlpWd8th8gifL",
      "authorship_tag": "ABX9TyPvHQjJ43ZvSMLUQnBTyUF8",
      "include_colab_link": true
    },
    "gpuClass": "standard",
    "kernelspec": {
      "display_name": "Python 3",
      "name": "python3"
    },
    "language_info": {
      "name": "python"
    }
  },
  "nbformat": 4,
  "nbformat_minor": 0
}